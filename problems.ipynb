{
 "metadata": {
  "language_info": {
   "codemirror_mode": {
    "name": "ipython",
    "version": 3
   },
   "file_extension": ".py",
   "mimetype": "text/x-python",
   "name": "python",
   "nbconvert_exporter": "python",
   "pygments_lexer": "ipython3",
   "version": "3.9.5"
  },
  "orig_nbformat": 2,
  "kernelspec": {
   "name": "python3",
   "display_name": "Python 3.9.5 64-bit"
  },
  "metadata": {
   "interpreter": {
    "hash": "48b0d93754f01b8cd096afaa5b79113d35e8de390bfd99a8a89ccbe21ec7019c"
   }
  },
  "interpreter": {
   "hash": "48b0d93754f01b8cd096afaa5b79113d35e8de390bfd99a8a89ccbe21ec7019c"
  }
 },
 "nbformat": 4,
 "nbformat_minor": 2,
 "cells": [
  {
   "cell_type": "markdown",
   "source": [
    "## Problem solving practice\n",
    "1) Algorithm Complexity.\n",
    "\n",
    "2) Sorting."
   ],
   "metadata": {}
  },
  {
   "cell_type": "markdown",
   "source": [
    "### Algo Complexity\n",
    "Asymptotic notation is a set of languages which allow us to express the performance of our algorithms in relation to their input. Big O notation is used in Computer Science to describe the performance or complexity of an algorithm. Big O specifically describes the worst-case scenario, and can be used to describe the execution time required or the space used (e.g. in memory or on disk) by an algorithm.\n",
    "\n",
    "As a programmers we need to reach the best accuracy, we need an efficient algorithm(Time( not time in seconds but by number of the instructions), Memory).\n",
    "\n",
    "![alt text](images/BigOComplexity.png \"Big O Complexity\")\n"
   ],
   "metadata": {}
  },
  {
   "cell_type": "markdown",
   "source": [
    "### Sorting"
   ],
   "metadata": {}
  },
  {
   "cell_type": "markdown",
   "source": [
    "### 1. Bead Sort"
   ],
   "metadata": {}
  },
  {
   "cell_type": "code",
   "execution_count": 1,
   "source": [
    "\"\"\"\r\n",
    "Bead sort only works for sequences of nonegative integers.\r\n",
    "https://en.wikipedia.org/wiki/Bead_sort\r\n",
    "\r\n",
    "- bead sort can achieve a sorting time of O(n)\r\n",
    "- used to sort lists of positive integers \r\n",
    "- the best case, the algorithm requires O(n2) space. \r\n",
    "\r\n",
    "Notes from original paper https://web.archive.org/web/20170809110409/https://www.cs.auckland.ac.nz/%7Ejaru003/research/publications/journals/beadsort.pdf :\r\n",
    "- Why does the algorithm use positive integers?\r\n",
    "    - My advocating is, we are simulating nature, brads are found to be positive integers, like abacus and beads, each pole in abacus has a positive integer.\r\n",
    "- \r\n",
    "\r\n",
    "\"\"\"\r\n",
    "\r\n",
    "def bead_sort(sequence: list) -> list:\r\n",
    "    \r\n",
    "    \"\"\"\r\n",
    "    >>> bead_sort([6, 11, 12, 4, 1, 5])\r\n",
    "    [1, 4, 5, 6, 11, 12]\r\n",
    "\r\n",
    "    >>> bead_sort([9, 8, 7, 6, 5, 4 ,3, 2, 1])\r\n",
    "    [1, 2, 3, 4, 5, 6, 7, 8, 9]\r\n",
    "\r\n",
    "    >>> bead_sort([5, 0, 4, 3])\r\n",
    "    [0, 3, 4, 5]\r\n",
    "\r\n",
    "    >>> bead_sort([8, 2, 1])\r\n",
    "    [1, 2, 8]\r\n",
    "\r\n",
    "    >>> bead_sort([1, .9, 0.0, 0, -1, -.9])\r\n",
    "    Traceback (most recent call last):\r\n",
    "    ...\r\n",
    "    TypeError: Sequence must be list of nonnegative integers\r\n",
    "\r\n",
    "    >>> bead_sort(\"Hello world\")\r\n",
    "    Traceback (most recent call last):\r\n",
    "    ...\r\n",
    "    TypeError: Sequence must be list of nonnegative integers\r\n",
    "    \"\"\"\r\n",
    "    if any(not isinstance(x, int) or x < 0 for x in sequence):\r\n",
    "        raise TypeError(\"Sequence must be list of nonnegative integers\")\r\n",
    "    \r\n",
    "    for _ in range(len(sequence)):\r\n",
    "        for i, (upper, lower) in enumerate(zip(sequence, sequence[1:])):\r\n",
    "            if upper > lower:\r\n",
    "                sequence[i] += upper - lower\r\n",
    "                sequence[i+1] += upper + lower\r\n",
    "    return sequence"
   ],
   "outputs": [],
   "metadata": {}
  },
  {
   "cell_type": "markdown",
   "source": [
    "### 2. Bitonic sort\n",
    "### Notes:\n",
    "- bitonic works only when size of input is a power of 2 (4, 8, 16, 32, ...)\n",
    "- bitonic is a series of numbers that first increasing, and then decreasing.\n",
    "- Increasing series is also bitonic, as the decrerasing part is embty, Decreasing also.\n",
    "\n",
    "#### Bitonic Algorthim\n",
    "- Breakdown list into bitonic sebsequences.(Bitonic sort)\n",
    "- Combine then into larger bitonic sequences.(Bitonic merge)\n",
    "- Worst-case performance\tO ( log 2 ⁡ ( n ) )  parallel time\n",
    "- Best-case performance\tO ( log 2 ⁡ ( n ) ) parallel time\n",
    "- Average performance\tO ( log 2 ⁡ ( n ) )  parallel time\n",
    "- Worst-case space complexity\tO ( n log 2 ⁡ ( n ) )  non-parallel  \n"
   ],
   "metadata": {}
  },
  {
   "cell_type": "code",
   "execution_count": 1,
   "source": [
    "\r\n",
    "\r\n",
    "from typing import List\r\n",
    "\r\n",
    "#compare and swap\r\n",
    "# bitonic sort with sequential programming\r\n",
    "# compare and swap : compare two indexes then swap them if they meet the condition or direction\r\n",
    "def comp_and_swap(collection:List, index1:int, index2:int, direction:int) -> None:\r\n",
    "    \"\"\"\r\n",
    "        >> input = [5, 8, 1, 6]\r\n",
    "        >> comp_and_swap(input, 0, 1, 0)\r\n",
    "        >> [8, 5, 1, 6]\r\n",
    "        \r\n",
    "    \"\"\"\r\n",
    "    if (direction == 0 and (collection[index1] < collection[index2])) or (direction == 1 and (collection[index1] > collection[index2])):\r\n",
    "        collection[index1], collection[index2] = collection[index2], collection[index1]\r\n",
    "\r\n",
    "\r\n",
    "# merge bitonic array\r\n",
    "def bitonic_merge(collection:List, low:int, length:int, direction:int) -> None:\r\n",
    "    \"\"\"\r\n",
    "        >>> arr = [12, 42, -21, 1]\r\n",
    "        >>> bitonic_merge(arr, 0, 4, 1)\r\n",
    "        >>> print(arr)\r\n",
    "        [-21, 1, 12, 42]\r\n",
    "    \"\"\"\r\n",
    "\r\n",
    "    if length > 1:\r\n",
    "        middle:int = int(length/2)\r\n",
    "        for i in range(low, low + middle):\r\n",
    "            comp_and_swap(collection, i, i + middle, direction)\r\n",
    "        bitonic_merge(collection, low, middle, direction)\r\n",
    "        bitonic_merge(collection, low+middle, middle, direction)\r\n",
    "            \r\n",
    "# bitonic sort \r\n",
    "def bitonic_sort(collection:List, low:int, length:int, direction:int) -> None:\r\n",
    "    #     >>> arr = [12, 34, 92, -23, 0, -121, -167, 145]\r\n",
    "    #     >>> bitonic_sort(arr, 0, 8, 1)\r\n",
    "    #     >>> arr\r\n",
    "    #     [-167, -121, -23, 0, 12, 34, 92, 145]\r\n",
    "    \r\n",
    "    if length > 1:\r\n",
    "        middle = int(length/2)\r\n",
    "        bitonic_sort(collection, low, middle, 1)\r\n",
    "        bitonic_sort(collection, low+middle, middle, 0)\r\n",
    "        bitonic_merge(collection, low, length, direction)\r\n",
    "    \r\n",
    "\r\n",
    "if __name__ == '__main__':\r\n",
    "    user_input = input(\"Enter numbers separated by a comma:\\n\").strip()\r\n",
    "    unsorted = [int(item.strip()) for item in user_input.split(\",\")]\r\n",
    "\r\n",
    "    bitonic_sort(unsorted, 0, len(unsorted), 1)\r\n",
    "    print(\"\\nSorted array in ascending order is: \", end=\"\")\r\n",
    "    print(*unsorted, sep=\", \")\r\n",
    "\r\n",
    "    bitonic_merge(unsorted, 0, len(unsorted), 0)\r\n",
    "    print(\"Sorted array in descending order is: \", end=\"\")\r\n",
    "    print(*unsorted, sep=\", \")\r\n"
   ],
   "outputs": [
    {
     "output_type": "stream",
     "name": "stdout",
     "text": [
      "\n",
      "Sorted array in ascending order is: -666, -50, -20, 0, 0, 5, 8, 9\n",
      "Sorted array in descending order is: 9, 8, 5, 0, 0, -20, -50, -666\n"
     ]
    }
   ],
   "metadata": {}
  },
  {
   "cell_type": "code",
   "execution_count": null,
   "source": [],
   "outputs": [],
   "metadata": {}
  },
  {
   "cell_type": "markdown",
   "source": [
    "### Insersion Sort"
   ],
   "metadata": {}
  },
  {
   "cell_type": "code",
   "execution_count": 37,
   "source": [
    "def insertion_sort1(arr: List[int])->list:\r\n",
    "    for i in range(len(arr)):\r\n",
    "        for j in range(i+1, len(arr)):\r\n",
    "            if arr[j] < arr[i]:\r\n",
    "                arr[j], arr[i] = arr[i], arr[j]\r\n",
    "    return arr\r\n",
    "\r\n",
    "def insersion_sort2(collection:list) -> list:\r\n",
    "    for insert_index, insert_value in enumerate(collection[1:]):\r\n",
    "        while insert_index >= 0 and insert_value < collection[insert_index]:\r\n",
    "            collection[insert_index], collection[insert_index+1] =collection[insert_index+1], collection[insert_index]\r\n",
    "            insert_index -= 1\r\n",
    "    return collection\r\n",
    "        \r\n",
    "    \r\n",
    "def insersion_sort3(collection:list)->list:\r\n",
    "    for i in range(1, len(collection)):\r\n",
    "        for j in range(i-1, -1, -1):\r\n",
    "            if j >= 0 and collection[i] < collection[j]:\r\n",
    "                collection[i], collection[j] = collection[j], collection[i]\r\n",
    "                if i > 1:\r\n",
    "                    i -= 1\r\n",
    "    return collection"
   ],
   "outputs": [
    {
     "output_type": "stream",
     "name": "stdout",
     "text": [
      "[1, 3, 7, 8]\n"
     ]
    }
   ],
   "metadata": {}
  },
  {
   "cell_type": "code",
   "execution_count": 9,
   "source": [
    "#Debugging\r\n",
    "def debug(func):\r\n",
    "    def wrapper(*args, **kwargs):\r\n",
    "        args_repr = [repr(arg) for arg in args]\r\n",
    "        kwargs_repr = [f\"{k}={v!r}\" for key, value in kwargs.items()]\r\n",
    "        signature = ', '.join(args_repr + kwargs_repr)\r\n",
    "        print(f\"Calling {func.__name__}({signature})\")\r\n",
    "        value = func(*args, **kwargs)\r\n",
    "        print(f\"{func.__name__!r} returned {value!r}\")\r\n",
    "        return value\r\n",
    "    return wrapper"
   ],
   "outputs": [],
   "metadata": {}
  },
  {
   "cell_type": "markdown",
   "source": [
    "## Hash tables\r\n",
    "    "
   ],
   "metadata": {}
  },
  {
   "cell_type": "code",
   "execution_count": 2,
   "source": [
    "def check_prime(number):\r\n",
    "    special_non_primes = [0, 1, 2]\r\n",
    "    if number in special_non_primes[:2]:\r\n",
    "        return 2\r\n",
    "    elif number == special_non_primes[-1]:\r\n",
    "        return 3\r\n",
    "    \r\n",
    "    return all([number % i for i in range(2, number)])\r\n"
   ],
   "outputs": [],
   "metadata": {}
  },
  {
   "cell_type": "code",
   "execution_count": 12,
   "source": [
    "print(check_prime(9)) "
   ],
   "outputs": [
    {
     "output_type": "stream",
     "name": "stdout",
     "text": [
      "False\n"
     ]
    }
   ],
   "metadata": {}
  },
  {
   "cell_type": "code",
   "execution_count": 13,
   "source": [
    "def next_prime(value, factor=1, **kwargs):\r\n",
    "    value = factor * value\r\n",
    "    first_value_val = value\r\n",
    "\r\n",
    "    while not check_prime(value):\r\n",
    "        value += 1 if not (\"desc\" in kwargs.keys() and kwargs[\"desc\"] is True) else -1\r\n",
    "\r\n",
    "    if value == first_value_val:\r\n",
    "        return next_prime(value + 1, **kwargs)\r\n",
    "    return value"
   ],
   "outputs": [],
   "metadata": {}
  },
  {
   "cell_type": "code",
   "execution_count": 17,
   "source": [
    "print(next_prime(7,factor=2))"
   ],
   "outputs": [
    {
     "output_type": "stream",
     "name": "stdout",
     "text": [
      "5\n"
     ]
    }
   ],
   "metadata": {}
  },
  {
   "cell_type": "code",
   "execution_count": null,
   "source": [],
   "outputs": [],
   "metadata": {}
  },
  {
   "cell_type": "code",
   "execution_count": null,
   "source": [],
   "outputs": [],
   "metadata": {}
  },
  {
   "cell_type": "code",
   "execution_count": null,
   "source": [],
   "outputs": [],
   "metadata": {}
  },
  {
   "cell_type": "code",
   "execution_count": null,
   "source": [],
   "outputs": [],
   "metadata": {}
  }
 ]
}